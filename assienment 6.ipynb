{
 "cells": [
  {
   "cell_type": "code",
   "execution_count": null,
   "id": "1026c3f4-8909-412d-990e-0e1746fa0d1d",
   "metadata": {},
   "outputs": [],
   "source": [
    "#Q1. Explain Class and Object with respect to Object-Oriented Programming. Give a suitable example.\n"
   ]
  },
  {
   "cell_type": "code",
   "execution_count": null,
   "id": "57dc0961-e792-443f-b6ad-92759bb32151",
   "metadata": {},
   "outputs": [],
   "source": [
    "#Object − Objects have states and behaviors. Example: A dog has states - color, name,\n",
    "#breed as well as behaviors – wagging the tail, barking, eating. An object is an instance\n",
    "#of a class. Class − A class can be defined as a template/blueprint that describes the\n",
    "#behavior/state that the object of its type support."
   ]
  },
  {
   "cell_type": "code",
   "execution_count": 4,
   "id": "8ee15dfe-6b75-4b5e-8c3c-c43cc3f1061b",
   "metadata": {},
   "outputs": [],
   "source": [
    "# example\n",
    "class dogs():\n",
    "    def __init__(self,name,colour,weight):\n",
    "        self.name=name\n",
    "        self.colour=colour\n",
    "        self.weight=weight\n",
    "    def return_dog(self):\n",
    "        return self.name,self.colour,self.weight"
   ]
  },
  {
   "cell_type": "code",
   "execution_count": 5,
   "id": "2008d6df-528f-4e0d-873b-ae3e5ef94099",
   "metadata": {},
   "outputs": [],
   "source": [
    "rocky=dogs('Rocky','black',20)"
   ]
  },
  {
   "cell_type": "code",
   "execution_count": 7,
   "id": "660bcb70-d123-41f6-852f-cc53a787c0d4",
   "metadata": {},
   "outputs": [
    {
     "data": {
      "text/plain": [
       "('Rocky', 'black', 20)"
      ]
     },
     "execution_count": 7,
     "metadata": {},
     "output_type": "execute_result"
    }
   ],
   "source": [
    "rocky.return_dog()"
   ]
  },
  {
   "cell_type": "code",
   "execution_count": null,
   "id": "db88d4cc-e578-4652-92af-c41f06f93f1d",
   "metadata": {},
   "outputs": [],
   "source": [
    "#Q2. Name the four pillars of OOPs."
   ]
  },
  {
   "cell_type": "code",
   "execution_count": 8,
   "id": "dc70d1fa-295b-4d9b-b8b7-043b400f9b69",
   "metadata": {},
   "outputs": [],
   "source": [
    "#The Four Pillars of Object Oriented Programming\n",
    "# Abstraction.\n",
    "#Encapsulation.\n",
    "#Inheritance.\n",
    "#Polymorphism."
   ]
  },
  {
   "cell_type": "code",
   "execution_count": null,
   "id": "ab85a300-bac4-40ca-aa7b-06edc0328efd",
   "metadata": {},
   "outputs": [],
   "source": [
    "#Q3. Explain why the __init__() function is used. Give a suitable example."
   ]
  },
  {
   "cell_type": "code",
   "execution_count": null,
   "id": "59f51b68-3f6e-4f03-94b1-2df7de521f82",
   "metadata": {},
   "outputs": [],
   "source": [
    "# __init__ is a special python method that runs whenever a new object is created. These types of functions are used to\n",
    " #   initialize the attributes of that class, E.g., if the class is Person, then the attributes will be name, age, etc"
   ]
  },
  {
   "cell_type": "code",
   "execution_count": 11,
   "id": "21b1ba80-d86b-4608-a41a-b8d229bd0a72",
   "metadata": {},
   "outputs": [],
   "source": [
    "class Person:\n",
    "    def __init__(self, name, age):\n",
    "        self.name = name\n",
    "        self.age = age\n",
    "\n"
   ]
  },
  {
   "cell_type": "code",
   "execution_count": 12,
   "id": "c6315d3b-6c55-4127-88df-3d4a0fc7b608",
   "metadata": {},
   "outputs": [
    {
     "name": "stdout",
     "output_type": "stream",
     "text": [
      "John\n",
      "36\n"
     ]
    }
   ],
   "source": [
    "p1 = Person(\"John\", 36)\n",
    "\n",
    "print(p1.name)\n",
    "print(p1.age)"
   ]
  },
  {
   "cell_type": "code",
   "execution_count": null,
   "id": "0f0d74ec-95f6-457e-a02a-1112188ec791",
   "metadata": {},
   "outputs": [],
   "source": [
    "#Q4. Why self is used in OOPs?"
   ]
  },
  {
   "cell_type": "code",
   "execution_count": 13,
   "id": "d2f28378-b165-4bec-890d-0baba4d018d4",
   "metadata": {},
   "outputs": [],
   "source": [
    "#The self variable is used to represent the instance of the class which is often used in object-oriented programming.\n",
    "#It works as a reference to the object. Python uses the self parameter to refer to instance attributes and methods of the\n",
    "#class."
   ]
  },
  {
   "cell_type": "code",
   "execution_count": 14,
   "id": "818d3f9b-df1c-4dd4-b3e2-89ca9d900350",
   "metadata": {},
   "outputs": [],
   "source": [
    "#Q5. What is inheritance? Give an example for each type of inheritance."
   ]
  },
  {
   "cell_type": "code",
   "execution_count": 15,
   "id": "bec6d380-a0c0-4422-8b94-c28e3430e238",
   "metadata": {},
   "outputs": [],
   "source": [
    "#Inheritance is a mechanism in which one class acquires the property of another class. For example, a child inherits the\n",
    "#traits of his/her parents. With inheritance, we can reuse the fields and methods of the existing class. Hence, inheritance\n",
    "#facilitates Reusability and is an important concept of OOPs."
   ]
  },
  {
   "cell_type": "code",
   "execution_count": 31,
   "id": "4476a643-52c6-4641-9256-e307ff4f1f56",
   "metadata": {},
   "outputs": [],
   "source": [
    "class test1():\n",
    "    def details(self):\n",
    "        print('welcome')"
   ]
  },
  {
   "cell_type": "code",
   "execution_count": 34,
   "id": "50409284-853b-4a59-94d7-ed9886e0a839",
   "metadata": {},
   "outputs": [],
   "source": [
    "class test2(test1):\n",
    "    def details2(self):\n",
    "        print('good')\n",
    "    "
   ]
  },
  {
   "cell_type": "code",
   "execution_count": 35,
   "id": "386d7cca-e879-4cf2-a458-0470aed1aee0",
   "metadata": {},
   "outputs": [],
   "source": [
    "math=test2()"
   ]
  },
  {
   "cell_type": "code",
   "execution_count": 36,
   "id": "cd18ff54-a4e9-4495-b547-5035d3f063a7",
   "metadata": {},
   "outputs": [
    {
     "name": "stdout",
     "output_type": "stream",
     "text": [
      "welcome\n"
     ]
    }
   ],
   "source": [
    "math.details()"
   ]
  },
  {
   "cell_type": "code",
   "execution_count": null,
   "id": "927d3da0-3ffb-4b7d-be3e-238c6bf9ec01",
   "metadata": {},
   "outputs": [],
   "source": []
  }
 ],
 "metadata": {
  "kernelspec": {
   "display_name": "Python 3 (ipykernel)",
   "language": "python",
   "name": "python3"
  },
  "language_info": {
   "codemirror_mode": {
    "name": "ipython",
    "version": 3
   },
   "file_extension": ".py",
   "mimetype": "text/x-python",
   "name": "python",
   "nbconvert_exporter": "python",
   "pygments_lexer": "ipython3",
   "version": "3.10.8"
  }
 },
 "nbformat": 4,
 "nbformat_minor": 5
}
